{
  "nbformat": 4,
  "nbformat_minor": 0,
  "metadata": {
    "colab": {
      "provenance": []
    },
    "kernelspec": {
      "name": "python3",
      "display_name": "Python 3"
    },
    "language_info": {
      "name": "python"
    }
  },
  "cells": [
    {
      "cell_type": "code",
      "execution_count": null,
      "metadata": {
        "id": "l6BWLe0aPZcF"
      },
      "outputs": [],
      "source": [
        "# Import required module\n",
        "from googletrans import Translator # Import the Translator class from the googletrans library"
      ]
    },
    {
      "cell_type": "code",
      "source": [
        "# Init instance translator\n",
        "t = Translator()"
      ],
      "metadata": {
        "id": "qMnrp-TGPrfU"
      },
      "execution_count": null,
      "outputs": []
    },
    {
      "cell_type": "code",
      "source": [
        "# Prompt user to enter a text to be translated\n",
        "inp = input(\"Enter text: \")"
      ],
      "metadata": {
        "colab": {
          "base_uri": "https://localhost:8080/"
        },
        "id": "RvWBVPzuQxB7",
        "outputId": "0faf7222-208c-4100-d660-f15d09be82eb"
      },
      "execution_count": null,
      "outputs": [
        {
          "name": "stdout",
          "output_type": "stream",
          "text": [
            "Enter text: How are you?\n"
          ]
        }
      ]
    },
    {
      "cell_type": "code",
      "source": [
        "# Prompt user to enter the desired output language\n",
        "out= str(input(\"Enter desired language: \"))"
      ],
      "metadata": {
        "colab": {
          "base_uri": "https://localhost:8080/"
        },
        "id": "ODgqXnuxRbUP",
        "outputId": "01f1849b-00e0-4fc2-c58b-25b4a65ee2da"
      },
      "execution_count": null,
      "outputs": [
        {
          "name": "stdout",
          "output_type": "stream",
          "text": [
            "Enter desired language: ta\n"
          ]
        }
      ]
    },
    {
      "cell_type": "code",
      "source": [
        "# Use the Translator instance to translate input text to desired language\n",
        "res = t.translate(inp, dest=out)"
      ],
      "metadata": {
        "id": "md_CCj8UU20c"
      },
      "execution_count": null,
      "outputs": []
    },
    {
      "cell_type": "code",
      "source": [
        "# Translated text\n",
        "print(res.text)"
      ],
      "metadata": {
        "colab": {
          "base_uri": "https://localhost:8080/"
        },
        "id": "uyfE8M8xSQ7l",
        "outputId": "e523f4b6-326c-41e1-91b1-a1fa6067d7f1"
      },
      "execution_count": null,
      "outputs": [
        {
          "output_type": "stream",
          "name": "stdout",
          "text": [
            "எப்படி இருக்கிறீர்கள்?\n"
          ]
        }
      ]
    }
  ]
}